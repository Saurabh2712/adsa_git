{
 "cells": [
  {
   "cell_type": "code",
   "execution_count": 7,
   "id": "7e48c58b-6ec4-46e5-8b6c-869dc377fdd6",
   "metadata": {},
   "outputs": [
    {
     "name": "stdout",
     "output_type": "stream",
     "text": [
      "Found at  1\n"
     ]
    }
   ],
   "source": [
    "pos = -1\n",
    "\n",
    "def search(list, n):\n",
    "    i = 0\n",
    "\n",
    "    while i< len(list):\n",
    "        if list[i] == n:\n",
    "            globals()['pos'] = i\n",
    "            return True\n",
    "        i = i + 1;\n",
    "\n",
    "    return False\n",
    "\n",
    "list = [5,8,4,6,9,2]\n",
    "n = 5\n",
    "\n",
    "if search(list, n):\n",
    "    print(\"Found at \",pos+1)\n",
    "else:\n",
    "    print(\"Not Found\")"
   ]
  },
  {
   "cell_type": "code",
   "execution_count": null,
   "id": "bc251f88-2a9c-452c-8d01-c81aac63d9a4",
   "metadata": {},
   "outputs": [],
   "source": []
  }
 ],
 "metadata": {
  "kernelspec": {
   "display_name": "Python 3 (ipykernel)",
   "language": "python",
   "name": "python3"
  },
  "language_info": {
   "codemirror_mode": {
    "name": "ipython",
    "version": 3
   },
   "file_extension": ".py",
   "mimetype": "text/x-python",
   "name": "python",
   "nbconvert_exporter": "python",
   "pygments_lexer": "ipython3",
   "version": "3.12.4"
  }
 },
 "nbformat": 4,
 "nbformat_minor": 5
}
