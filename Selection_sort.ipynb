{
 "cells": [
  {
   "cell_type": "code",
   "execution_count": 6,
   "id": "48e1cc5b-73c7-435c-ae4b-9fc611c7051a",
   "metadata": {},
   "outputs": [
    {
     "name": "stdout",
     "output_type": "stream",
     "text": [
      "[0, 2, 2, 4, 5, 5, 5, 8, 21, 55, 100]\n"
     ]
    }
   ],
   "source": [
    "def sort(nums):\n",
    "\n",
    "    for i in range(len(nums)):\n",
    "        minposition = i\n",
    "        for j in range(i,len(nums)):\n",
    "            if nums[j] < nums[minposition]:\n",
    "                minposition = j\n",
    "\n",
    "\n",
    "        temp = nums[i]\n",
    "        nums[i] = nums[minposition]\n",
    "        nums[minposition] = temp\n",
    "\n",
    "    \n",
    "\n",
    "\n",
    "nums = [8,2,100,2,4,55,5,0,5,21,5]\n",
    "sort(nums)\n",
    "\n",
    "print(nums)"
   ]
  },
  {
   "cell_type": "code",
   "execution_count": null,
   "id": "ce29825c-cb41-4765-986e-a7cefe009423",
   "metadata": {},
   "outputs": [],
   "source": []
  },
  {
   "cell_type": "code",
   "execution_count": null,
   "id": "cd4f984c-7772-4c61-bfee-2060ecae849a",
   "metadata": {},
   "outputs": [],
   "source": []
  }
 ],
 "metadata": {
  "kernelspec": {
   "display_name": "Python 3 (ipykernel)",
   "language": "python",
   "name": "python3"
  },
  "language_info": {
   "codemirror_mode": {
    "name": "ipython",
    "version": 3
   },
   "file_extension": ".py",
   "mimetype": "text/x-python",
   "name": "python",
   "nbconvert_exporter": "python",
   "pygments_lexer": "ipython3",
   "version": "3.12.4"
  }
 },
 "nbformat": 4,
 "nbformat_minor": 5
}
