{
 "cells": [
  {
   "cell_type": "code",
   "execution_count": 5,
   "id": "dae39fd2-7302-4cd7-8648-94f7f760cb3f",
   "metadata": {},
   "outputs": [
    {
     "name": "stdout",
     "output_type": "stream",
     "text": [
      "True\n"
     ]
    }
   ],
   "source": [
    "def binary_search(a, value):\n",
    "    a.sort()\n",
    "        if len(a) == 0:\n",
    "        return False\n",
    "\n",
    "    mid_index = len(a) // 2\n",
    "    mid = a[mid_index]\n",
    "    if value == mid:\n",
    "        return True\n",
    "    elif value < mid:\n",
    "        return binary_search(a[:mid_index], value)\n",
    "    else:\n",
    "        return binary_search(a[mid_index + 1:], value)\n",
    "\n",
    "a = [4, 55, 754, 5, 755, 5, 56625, 45, 7, 78]\n",
    "g = binary_search(a, 5)\n",
    "print(g)\n"
   ]
  },
  {
   "cell_type": "code",
   "execution_count": null,
   "id": "6215ddf7-0cc7-4711-a730-e93b39abe74e",
   "metadata": {},
   "outputs": [],
   "source": []
  }
 ],
 "metadata": {
  "kernelspec": {
   "display_name": "Python 3 (ipykernel)",
   "language": "python",
   "name": "python3"
  },
  "language_info": {
   "codemirror_mode": {
    "name": "ipython",
    "version": 3
   },
   "file_extension": ".py",
   "mimetype": "text/x-python",
   "name": "python",
   "nbconvert_exporter": "python",
   "pygments_lexer": "ipython3",
   "version": "3.12.4"
  }
 },
 "nbformat": 4,
 "nbformat_minor": 5
}
